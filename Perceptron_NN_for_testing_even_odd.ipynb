{
  "nbformat": 4,
  "nbformat_minor": 0,
  "metadata": {
    "colab": {
      "provenance": [],
      "authorship_tag": "ABX9TyMDUeg2AX7pvV0YtJiFYJbw",
      "include_colab_link": true
    },
    "kernelspec": {
      "name": "python3",
      "display_name": "Python 3"
    },
    "language_info": {
      "name": "python"
    }
  },
  "cells": [
    {
      "cell_type": "markdown",
      "metadata": {
        "id": "view-in-github",
        "colab_type": "text"
      },
      "source": [
        "<a href=\"https://colab.research.google.com/github/shrinkhlap/Applied-ML/blob/main/Perceptron_NN_for_testing_even_odd.ipynb\" target=\"_parent\"><img src=\"https://colab.research.google.com/assets/colab-badge.svg\" alt=\"Open In Colab\"/></a>"
      ]
    },
    {
      "cell_type": "code",
      "execution_count": 3,
      "metadata": {
        "colab": {
          "base_uri": "https://localhost:8080/"
        },
        "id": "GWKHpDj4LXDb",
        "outputId": "452f3ed9-c94f-4287-9baa-3daaa92890d3"
      },
      "outputs": [
        {
          "name": "stdout",
          "output_type": "stream",
          "text": [
            "Digit | ASCII | Prediction | Actual | Correct\n",
            "---------------------------------------------\n",
            "  0   |  48  |    Even    |  Even  |   ✓\n",
            "  1   |  49  |    Odd    |  Odd  |   ✓\n",
            "  2   |  50  |    Even    |  Even  |   ✓\n",
            "  3   |  51  |    Odd    |  Odd  |   ✓\n",
            "  4   |  52  |    Even    |  Even  |   ✓\n",
            "  5   |  53  |    Odd    |  Odd  |   ✓\n",
            "  6   |  54  |    Even    |  Even  |   ✓\n",
            "  7   |  55  |    Odd    |  Odd  |   ✓\n",
            "  8   |  56  |    Even    |  Even  |   ✓\n",
            "  9   |  57  |    Odd    |  Odd  |   ✓\n",
            "\n",
            "Test your own digits (0-9):\n",
            "Enter digit (or 'q' to quit): 5\n",
            "'5' is predicted as: Odd\n",
            "Enter digit (or 'q' to quit): 3\n",
            "'3' is predicted as: Odd\n",
            "Enter digit (or 'q' to quit): 6\n",
            "'6' is predicted as: Even\n",
            "Enter digit (or 'q' to quit): quit\n",
            "Enter digit (or 'q' to quit): q\n"
          ]
        }
      ],
      "source": [
        "import numpy as np\n",
        "\n",
        "class Perceptron:\n",
        "    def __init__(self):\n",
        "        self.weights = np.random.rand(8) * 0.1\n",
        "        self.bias = 0\n",
        "        self.lr = 0.1\n",
        "\n",
        "    def predict(self, x):\n",
        "        return 1 if np.dot(x, self.weights) + self.bias >= 0 else 0\n",
        "\n",
        "    def train(self, X, y, epochs=50):\n",
        "        for _ in range(epochs):\n",
        "            for i in range(len(X)):\n",
        "                pred = self.predict(X[i])\n",
        "                error = y[i] - pred\n",
        "                self.weights += self.lr * error * X[i]\n",
        "                self.bias += self.lr * error\n",
        "\n",
        "def digit_to_features(digit_char):\n",
        "    ascii_val = ord(digit_char)\n",
        "    return np.array([(ascii_val >> i) & 1 for i in range(8)])\n",
        "\n",
        "digits = ['0', '1', '2', '3', '4', '5', '6', '7', '8', '9']\n",
        "X = np.array([digit_to_features(d) for d in digits])\n",
        "y = np.array([int(d) % 2 == 0 for d in digits]).astype(int)  # 1=even, 0=odd\n",
        "\n",
        "# Train perceptron\n",
        "perceptron = Perceptron()\n",
        "perceptron.train(X, y)\n",
        "\n",
        "# Test\n",
        "print(\"Digit | ASCII | Prediction | Actual | Correct\")\n",
        "print(\"-\" * 45)\n",
        "for i, digit in enumerate(digits):\n",
        "    pred = perceptron.predict(X[i])\n",
        "    actual = y[i]\n",
        "    pred_text = \"Even\" if pred else \"Odd\"\n",
        "    actual_text = \"Even\" if actual else \"Odd\"\n",
        "    correct = \"✓\" if pred == actual else \"✗\"\n",
        "    print(f\"  {digit}   | {ord(digit):3d}  |    {pred_text}    |  {actual_text}  |   {correct}\")\n",
        "\n",
        "print(\"\\nTest your own digits (0-9):\")\n",
        "while True:\n",
        "    inp = input(\"Enter digit (or 'q' to quit): \")\n",
        "    if inp == 'q':\n",
        "        break\n",
        "    if inp.isdigit() and len(inp) == 1:\n",
        "        features = digit_to_features(inp)\n",
        "        pred = perceptron.predict(features)\n",
        "        result = \"Even\" if pred else \"Odd\"\n",
        "        print(f\"'{inp}' is predicted as: {result}\")"
      ]
    }
  ]
}